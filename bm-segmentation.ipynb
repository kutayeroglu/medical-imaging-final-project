{
 "cells": [
  {
   "cell_type": "code",
   "execution_count": 1,
   "id": "f146f679",
   "metadata": {},
   "outputs": [],
   "source": [
    "from sklearn.preprocessing import StandardScaler\n",
    "import matplotlib.pyplot as plt # plotting\n",
    "import numpy as np # linear algebra\n",
    "import os # accessing directory structure\n",
    "import pandas as pd # data processing, CSV file I/O (e.g. pd.read_csv)\n",
    "import cv2"
   ]
  },
  {
   "cell_type": "code",
   "execution_count": 2,
   "id": "8f1fef10",
   "metadata": {},
   "outputs": [],
   "source": [
    "test_data_dir = \"input/test/\"\n",
    "normal_data = os.path.join(test_data_dir, \"NORMAL\")\n",
    "img_dir = os.path.join(normal_data, 'NORMAL-9251-1.jpeg')"
   ]
  },
  {
   "cell_type": "markdown",
   "id": "5fd2ac21",
   "metadata": {},
   "source": [
    "### Convert the Image into Binary Format"
   ]
  },
  {
   "cell_type": "code",
   "execution_count": null,
   "id": "88ee1ee4",
   "metadata": {},
   "outputs": [],
   "source": [
    "# read the image file\n",
    "img = cv2.imread(img_dir, 2)\n",
    "  \n",
    "ret, bw_img = cv2.threshold(img, 127, 255, cv2.THRESH_BINARY)\n",
    "  \n",
    "# converting to its binary form\n",
    "bw = cv2.threshold(img, 127, 255, cv2.THRESH_BINARY)\n",
    "  \n",
    "cv2.imshow(\"Binary\", bw_img)\n",
    "cv2.waitKey(0)\n",
    "cv2.destroyAllWindows()"
   ]
  },
  {
   "cell_type": "markdown",
   "id": "87457276",
   "metadata": {},
   "source": [
    "### Thresholding"
   ]
  },
  {
   "cell_type": "markdown",
   "id": "cabc9cec",
   "metadata": {},
   "source": [
    "### Reconstruction"
   ]
  },
  {
   "cell_type": "markdown",
   "id": "43bbeeb7",
   "metadata": {},
   "source": [
    "### Thinning "
   ]
  },
  {
   "cell_type": "markdown",
   "id": "0b6f0be0",
   "metadata": {},
   "source": [
    "### Erosion "
   ]
  },
  {
   "cell_type": "markdown",
   "id": "a5f713b0",
   "metadata": {},
   "source": [
    "### Spline Fitting"
   ]
  }
 ],
 "metadata": {
  "kernelspec": {
   "display_name": "final-env",
   "language": "python",
   "name": "final-env"
  },
  "language_info": {
   "codemirror_mode": {
    "name": "ipython",
    "version": 3
   },
   "file_extension": ".py",
   "mimetype": "text/x-python",
   "name": "python",
   "nbconvert_exporter": "python",
   "pygments_lexer": "ipython3",
   "version": "3.8.8"
  }
 },
 "nbformat": 4,
 "nbformat_minor": 5
}
