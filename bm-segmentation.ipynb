{
 "cells": [
  {
   "cell_type": "code",
   "execution_count": 62,
   "id": "f146f679",
   "metadata": {},
   "outputs": [],
   "source": [
    "from sklearn.preprocessing import StandardScaler\n",
    "import matplotlib.pyplot as plt \n",
    "import numpy as np \n",
    "import os \n",
    "import pandas as pd \n",
    "import cv2\n",
    "import math"
   ]
  },
  {
   "cell_type": "code",
   "execution_count": 63,
   "id": "8f1fef10",
   "metadata": {},
   "outputs": [],
   "source": [
    "#test_data_dir = \"input/test/\"\n",
    "#normal_data = os.path.join(test_data_dir, \"NORMAL\")\n",
    "#img_dir = os.path.join(normal_data, 'NORMAL-9251-1.jpeg')"
   ]
  },
  {
   "cell_type": "markdown",
   "id": "8ef00f6a",
   "metadata": {},
   "source": [
    "### Remove upper-half of the image to get rid of white line above the Bruch Membrane\n"
   ]
  },
  {
   "cell_type": "code",
   "execution_count": 64,
   "id": "f46f110a",
   "metadata": {},
   "outputs": [],
   "source": [
    "#img = cv2.imread(img_dir, 2)\n",
    "img = cv2.imread(\"NORMAL-1038998-1.jpeg\", 2)\n",
    "img = img[math.floor(img.shape[0]/2):,:]\n",
    "cv2.imshow(\"Binary\", img)\n",
    "cv2.waitKey(5000)\n",
    "cv2.destroyAllWindows()"
   ]
  },
  {
   "cell_type": "markdown",
   "id": "e3b1cbfc",
   "metadata": {},
   "source": [
    "### Convert the Image into Binary Format"
   ]
  },
  {
   "cell_type": "code",
   "execution_count": 67,
   "id": "88ee1ee4",
   "metadata": {},
   "outputs": [],
   "source": [
    "# converting to its binary form\n",
    "ret, bw = cv2.threshold(img, 127, 255, cv2.THRESH_BINARY)\n",
    "\n",
    "cv2.imshow(\"Binary\", bw)\n",
    "cv2.waitKey(5000)\n",
    "cv2.destroyAllWindows()"
   ]
  },
  {
   "cell_type": "markdown",
   "id": "87457276",
   "metadata": {},
   "source": [
    "### Thresholding"
   ]
  },
  {
   "cell_type": "code",
   "execution_count": 68,
   "id": "cb8c6d43",
   "metadata": {},
   "outputs": [],
   "source": [
    "ret, bw = cv2.threshold(img, 140, 255, cv2.THRESH_BINARY)\n",
    "\n",
    "cv2.imshow(\"Binary\", bw)\n",
    "cv2.waitKey(5000)\n",
    "cv2.destroyAllWindows()"
   ]
  },
  {
   "cell_type": "markdown",
   "id": "cabc9cec",
   "metadata": {},
   "source": [
    "### Reconstruction"
   ]
  },
  {
   "cell_type": "code",
   "execution_count": null,
   "id": "a0ac90cc",
   "metadata": {},
   "outputs": [],
   "source": [
    "kernel = cv2.getStructuringElement(cv2.MORPH_ELLIPSE, (25, 25))\n",
    "bw_morph = cv2.morphologyEx(bw, cv2.MORPH_CLOSE, kernel)"
   ]
  },
  {
   "cell_type": "markdown",
   "id": "43bbeeb7",
   "metadata": {},
   "source": [
    "### Thinning & Erosion"
   ]
  },
  {
   "cell_type": "code",
   "execution_count": null,
   "id": "5f20a91c",
   "metadata": {},
   "outputs": [],
   "source": [
    "kernel_thin = cv2.getStructuringElement(cv2.MORPH_CROSS, (3,3))\n",
    "thin =np.zeros(img.shape, dtype = 'uint8')\n",
    "\n",
    "while (cv2.countNonZero(bw_morph)!=0):\n",
    "    erode = cv2.erode(bw_morph, kernel)\n",
    "    opening = cv2.morphologyEx(erode, cv2.MORPH_OPEN, kernel_thin)\n",
    "    subset = erode - opening\n",
    "    thin = cv2.bitwise_or(subset, thin)\n",
    "    bw_morph = erode.copy()"
   ]
  },
  {
   "cell_type": "markdown",
   "id": "0b6f0be0",
   "metadata": {},
   "source": [
    "### Erosion "
   ]
  },
  {
   "cell_type": "markdown",
   "id": "a5f713b0",
   "metadata": {},
   "source": [
    "### Spline Fitting"
   ]
  }
 ],
 "metadata": {
  "kernelspec": {
   "display_name": "final-env",
   "language": "python",
   "name": "final-env"
  },
  "language_info": {
   "codemirror_mode": {
    "name": "ipython",
    "version": 3
   },
   "file_extension": ".py",
   "mimetype": "text/x-python",
   "name": "python",
   "nbconvert_exporter": "python",
   "pygments_lexer": "ipython3",
   "version": "3.8.8"
  }
 },
 "nbformat": 4,
 "nbformat_minor": 5
}
